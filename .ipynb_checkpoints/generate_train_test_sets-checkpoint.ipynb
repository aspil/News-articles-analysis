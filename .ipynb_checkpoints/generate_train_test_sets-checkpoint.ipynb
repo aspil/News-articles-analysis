{
 "cells": [
  {
   "cell_type": "markdown",
   "metadata": {},
   "source": [
    "Get the directory containing the article categories."
   ]
  },
  {
   "cell_type": "code",
   "execution_count": 1,
   "metadata": {},
   "outputs": [],
   "source": [
    "import pandas as pd\n",
    "import nltk\n",
    "import csv\n",
    "import os\n",
    "\n",
    "data_dir = os.path.join(os.getcwd(), \"data\")"
   ]
  },
  {
   "cell_type": "code",
   "execution_count": 2,
   "metadata": {
    "scrolled": true
   },
   "outputs": [],
   "source": [
    "data_categories = [f.path for f in os.scandir(data_dir) if f.is_dir()]"
   ]
  },
  {
   "cell_type": "markdown",
   "metadata": {},
   "source": [
    "Count the total number of articles. Each number from that total number will serve as an ID for each article."
   ]
  },
  {
   "cell_type": "code",
   "execution_count": 3,
   "metadata": {},
   "outputs": [],
   "source": [
    "id = 0\n",
    "with open('data.tsv', 'w') as dataset:\n",
    "    tsv_output = csv.writer(dataset, delimiter='\\t')\n",
    "    tsv_output.writerow(['id','title','content','category'])\n",
    "    for category_path in data_categories:\n",
    "        category = os.path.basename(os.path.normpath(category_path))\n",
    "        for file in os.listdir(category_path):\n",
    "            if file.endswith('.txt') and os.path.isfile(os.path.join(category_path, file)):\n",
    "                article_path = os.path.join(category_path,file)\n",
    "                article = open(article_path, 'r', encoding = 'utf8', errors = 'ignore')\n",
    "                \n",
    "                title = article.readline()              \n",
    "                content = article.read()\n",
    "                article.close()\n",
    "\n",
    "                tsv_output.writerow([id,title,content,category])\n",
    "                id += 1\n",
    "dataset.close()"
   ]
  },
  {
   "cell_type": "code",
   "execution_count": 4,
   "metadata": {
    "scrolled": true
   },
   "outputs": [
    {
     "data": {
      "text/html": [
       "<div>\n",
       "<style scoped>\n",
       "    .dataframe tbody tr th:only-of-type {\n",
       "        vertical-align: middle;\n",
       "    }\n",
       "\n",
       "    .dataframe tbody tr th {\n",
       "        vertical-align: top;\n",
       "    }\n",
       "\n",
       "    .dataframe thead th {\n",
       "        text-align: right;\n",
       "    }\n",
       "</style>\n",
       "<table border=\"1\" class=\"dataframe\">\n",
       "  <thead>\n",
       "    <tr style=\"text-align: right;\">\n",
       "      <th></th>\n",
       "      <th>id</th>\n",
       "      <th>title</th>\n",
       "      <th>content</th>\n",
       "      <th>category</th>\n",
       "    </tr>\n",
       "  </thead>\n",
       "  <tbody>\n",
       "    <tr>\n",
       "      <th>0</th>\n",
       "      <td>0</td>\n",
       "      <td>Ad sales boost Time Warner profit\\r\\n</td>\n",
       "      <td>\\r\\nQuarterly profits at US media giant TimeWa...</td>\n",
       "      <td>business</td>\n",
       "    </tr>\n",
       "    <tr>\n",
       "      <th>1</th>\n",
       "      <td>1</td>\n",
       "      <td>Dollar gains on Greenspan speech\\r\\n</td>\n",
       "      <td>\\r\\nThe dollar has hit its highest level again...</td>\n",
       "      <td>business</td>\n",
       "    </tr>\n",
       "    <tr>\n",
       "      <th>2</th>\n",
       "      <td>2</td>\n",
       "      <td>Yukos unit buyer faces loan claim\\r\\n</td>\n",
       "      <td>\\r\\nThe owners of embattled Russian oil giant ...</td>\n",
       "      <td>business</td>\n",
       "    </tr>\n",
       "    <tr>\n",
       "      <th>3</th>\n",
       "      <td>3</td>\n",
       "      <td>High fuel prices hit BA's profits\\r\\n</td>\n",
       "      <td>\\r\\nBritish Airways has blamed high fuel price...</td>\n",
       "      <td>business</td>\n",
       "    </tr>\n",
       "    <tr>\n",
       "      <th>4</th>\n",
       "      <td>4</td>\n",
       "      <td>Pernod takeover talk lifts Domecq\\r\\n</td>\n",
       "      <td>\\r\\nShares in UK drinks and food firm Allied D...</td>\n",
       "      <td>business</td>\n",
       "    </tr>\n",
       "  </tbody>\n",
       "</table>\n",
       "</div>"
      ],
      "text/plain": [
       "   id                                  title  \\\n",
       "0   0  Ad sales boost Time Warner profit\\r\\n   \n",
       "1   1   Dollar gains on Greenspan speech\\r\\n   \n",
       "2   2  Yukos unit buyer faces loan claim\\r\\n   \n",
       "3   3  High fuel prices hit BA's profits\\r\\n   \n",
       "4   4  Pernod takeover talk lifts Domecq\\r\\n   \n",
       "\n",
       "                                             content  category  \n",
       "0  \\r\\nQuarterly profits at US media giant TimeWa...  business  \n",
       "1  \\r\\nThe dollar has hit its highest level again...  business  \n",
       "2  \\r\\nThe owners of embattled Russian oil giant ...  business  \n",
       "3  \\r\\nBritish Airways has blamed high fuel price...  business  \n",
       "4  \\r\\nShares in UK drinks and food firm Allied D...  business  "
      ]
     },
     "execution_count": 4,
     "metadata": {},
     "output_type": "execute_result"
    }
   ],
   "source": [
    "df = pd.read_csv(\"data.tsv\", sep='\\t', encoding = 'ANSI')\n",
    "df.head()"
   ]
  },
  {
   "cell_type": "markdown",
   "metadata": {},
   "source": [
    "##### Data preprocessing"
   ]
  },
  {
   "cell_type": "code",
   "execution_count": 5,
   "metadata": {},
   "outputs": [],
   "source": [
    "from nltk.stem import WordNetLemmatizer\n",
    "from sklearn.feature_extraction.text import ENGLISH_STOP_WORDS as stop_words"
   ]
  },
  {
   "cell_type": "markdown",
   "metadata": {},
   "source": [
    "Prototype of the function that is defined in the cell bellow.\n",
    "\n",
    "<span style=\"color:DeepPink\">**preprocess_article**</span>**(text)**  \n",
    "&nbsp;&nbsp;Removes special characters from a given string object, removes stop words and lematizes words using WordNetLematizer().  \n",
    "&nbsp;&nbsp;&nbsp;**Parameters: &nbsp;&nbsp;&nbsp;text : str**  \n",
    "&nbsp;&nbsp;&nbsp;&nbsp;&nbsp;&nbsp;&nbsp;&nbsp;&nbsp;&nbsp;&nbsp;&nbsp;&nbsp;&nbsp;&nbsp;\n",
    "String object to process. \n",
    "\n",
    "&nbsp;&nbsp;&nbsp;**Returns: &nbsp;&nbsp;&nbsp;&nbsp;&nbsp;&nbsp;&nbsp;&nbsp;&nbsp;text : str**  \n",
    "&nbsp;&nbsp;&nbsp;&nbsp;&nbsp;&nbsp;&nbsp;&nbsp;&nbsp;&nbsp;&nbsp;&nbsp;&nbsp;&nbsp;&nbsp;\n",
    "Lematized string object without stopwords and several special characters."
   ]
  },
  {
   "cell_type": "code",
   "execution_count": 6,
   "metadata": {},
   "outputs": [],
   "source": [
    "stop_words = list(stop_words)\n",
    "\n",
    "\"\"\" In previous version of our project, the wordclouds below showed that 'said' word\n",
    "    appears the most in the data, so we decided to remove it as it has no valuable meaning. \"\"\"\n",
    "stop_words.append('said')\n",
    "wordnet_lemmatizer = WordNetLemmatizer()\n",
    "\n",
    "\"\"\" Make sure that the text parameter and return variable are of string type. \"\"\"\n",
    "def preprocess_article(text: str) -> str:\n",
    "    # Remove newlines and \\r characters.\n",
    "    text = text.replace('\\n', '')\n",
    "    text = text.replace('\\r', '')\n",
    "    # Remove quotes\n",
    "    text = text.replace('\"', '')\n",
    "    # Convert text to lowercase.\n",
    "    text = text.lower()\n",
    "    # Remove punctuation and special characters !?:;.,[]() .\n",
    "    text = text.translate(str.maketrans('', '', '!?:;.,[]()'))\n",
    "    # Remove terminating 's characters.\n",
    "    text = text.replace(\"'s\", \"\")\n",
    "    # Remove stop words. Note: do this first and then lemmatize because lemmatizing\n",
    "    # can change words like 'has' to 'ha'.\n",
    "    text = ' '.join([word for word in text.split() if word not in stop_words])\n",
    "    # Lematize text with WordNetLemmatizer().\n",
    "    text = ' '.join([wordnet_lemmatizer.lemmatize(word) for word in text.split(' ')])\n",
    "    \n",
    "    return text"
   ]
  },
  {
   "cell_type": "markdown",
   "metadata": {},
   "source": [
    "Apply the function above to the title and content columns of the dataframe."
   ]
  },
  {
   "cell_type": "code",
   "execution_count": 7,
   "metadata": {},
   "outputs": [
    {
     "data": {
      "text/html": [
       "<div>\n",
       "<style scoped>\n",
       "    .dataframe tbody tr th:only-of-type {\n",
       "        vertical-align: middle;\n",
       "    }\n",
       "\n",
       "    .dataframe tbody tr th {\n",
       "        vertical-align: top;\n",
       "    }\n",
       "\n",
       "    .dataframe thead th {\n",
       "        text-align: right;\n",
       "    }\n",
       "</style>\n",
       "<table border=\"1\" class=\"dataframe\">\n",
       "  <thead>\n",
       "    <tr style=\"text-align: right;\">\n",
       "      <th></th>\n",
       "      <th>id</th>\n",
       "      <th>title</th>\n",
       "      <th>content</th>\n",
       "      <th>category</th>\n",
       "    </tr>\n",
       "  </thead>\n",
       "  <tbody>\n",
       "    <tr>\n",
       "      <th>0</th>\n",
       "      <td>0</td>\n",
       "      <td>ad sale boost time warner profit</td>\n",
       "      <td>quarterly profit medium giant timewarner jumpe...</td>\n",
       "      <td>business</td>\n",
       "    </tr>\n",
       "    <tr>\n",
       "      <th>1</th>\n",
       "      <td>1</td>\n",
       "      <td>dollar gain greenspan speech</td>\n",
       "      <td>dollar hit highest level euro month federal re...</td>\n",
       "      <td>business</td>\n",
       "    </tr>\n",
       "    <tr>\n",
       "      <th>2</th>\n",
       "      <td>2</td>\n",
       "      <td>yukos unit buyer face loan claim</td>\n",
       "      <td>owner embattled russian oil giant yukos ask bu...</td>\n",
       "      <td>business</td>\n",
       "    </tr>\n",
       "    <tr>\n",
       "      <th>3</th>\n",
       "      <td>3</td>\n",
       "      <td>high fuel price hit ba profit</td>\n",
       "      <td>british airway blamed high fuel price 40% drop...</td>\n",
       "      <td>business</td>\n",
       "    </tr>\n",
       "    <tr>\n",
       "      <th>4</th>\n",
       "      <td>4</td>\n",
       "      <td>pernod takeover talk lift domecq</td>\n",
       "      <td>share uk drink food firm allied domecq risen s...</td>\n",
       "      <td>business</td>\n",
       "    </tr>\n",
       "  </tbody>\n",
       "</table>\n",
       "</div>"
      ],
      "text/plain": [
       "   id                             title  \\\n",
       "0   0  ad sale boost time warner profit   \n",
       "1   1      dollar gain greenspan speech   \n",
       "2   2  yukos unit buyer face loan claim   \n",
       "3   3     high fuel price hit ba profit   \n",
       "4   4  pernod takeover talk lift domecq   \n",
       "\n",
       "                                             content  category  \n",
       "0  quarterly profit medium giant timewarner jumpe...  business  \n",
       "1  dollar hit highest level euro month federal re...  business  \n",
       "2  owner embattled russian oil giant yukos ask bu...  business  \n",
       "3  british airway blamed high fuel price 40% drop...  business  \n",
       "4  share uk drink food firm allied domecq risen s...  business  "
      ]
     },
     "execution_count": 7,
     "metadata": {},
     "output_type": "execute_result"
    }
   ],
   "source": [
    "df['title'] = df.title.apply(preprocess_article)\n",
    "df['content'] = df.content.apply(preprocess_article)\n",
    "df.head()"
   ]
  },
  {
   "cell_type": "markdown",
   "metadata": {},
   "source": [
    "Now split the dataframe into train and test datasets and save them as .tsv files"
   ]
  },
  {
   "cell_type": "code",
   "execution_count": 8,
   "metadata": {},
   "outputs": [
    {
     "name": "stdout",
     "output_type": "stream",
     "text": [
      "(1780, 4)\n",
      "(445, 3)\n"
     ]
    }
   ],
   "source": [
    "from sklearn.model_selection import train_test_split\n",
    "\n",
    "train, test = train_test_split(df, test_size = 0.2, stratify = df['category'])\n",
    "test = test.drop('category', axis = 1)\n",
    "\n",
    "train.to_csv('train_set.tsv', sep = '\\t', index = False, header = False)\n",
    "test.to_csv('test_set.tsv', sep = '\\t', index = False, header = False)\n",
    "\n",
    "print(train.shape)\n",
    "print(test.shape)"
   ]
  },
  {
   "cell_type": "code",
   "execution_count": null,
   "metadata": {},
   "outputs": [],
   "source": []
  }
 ],
 "metadata": {
  "kernelspec": {
   "display_name": "Python 3",
   "language": "python",
   "name": "python3"
  },
  "language_info": {
   "codemirror_mode": {
    "name": "ipython",
    "version": 3
   },
   "file_extension": ".py",
   "mimetype": "text/x-python",
   "name": "python",
   "nbconvert_exporter": "python",
   "pygments_lexer": "ipython3",
   "version": "3.7.6"
  }
 },
 "nbformat": 4,
 "nbformat_minor": 4
}
