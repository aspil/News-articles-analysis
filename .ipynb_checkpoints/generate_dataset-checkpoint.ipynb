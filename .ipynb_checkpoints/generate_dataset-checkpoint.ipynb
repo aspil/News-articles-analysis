{
 "cells": [
  {
   "cell_type": "markdown",
   "metadata": {},
   "source": [
    "Get the directory containing the article categories."
   ]
  },
  {
   "cell_type": "code",
   "execution_count": 217,
   "metadata": {},
   "outputs": [],
   "source": [
    "import pandas as pd\n",
    "import os\n",
    "\n",
    "data_dir = os.path.join(os.getcwd(), \"data\")"
   ]
  },
  {
   "cell_type": "code",
   "execution_count": 218,
   "metadata": {
    "scrolled": true
   },
   "outputs": [],
   "source": [
    "data_categories = [f.path for f in os.scandir(data_dir) if f.is_dir()]"
   ]
  },
  {
   "cell_type": "markdown",
   "metadata": {},
   "source": [
    "Count the total number of articles. Each number from that total number will serve as an ID for each article."
   ]
  },
  {
   "cell_type": "code",
   "execution_count": 196,
   "metadata": {},
   "outputs": [],
   "source": [
    "import csv\n",
    "id = 0\n",
    "with open('data.tsv', 'w') as trainset:\n",
    "    tsv_output = csv.writer(trainset, delimiter='\\t')\n",
    "    tsv_output.writerow(['id','title','content','category'])\n",
    "    for category_path in data_categories:\n",
    "        category = os.path.basename(os.path.normpath(category_path))\n",
    "        for file in os.listdir(category_path):\n",
    "            if file.endswith('.txt') and os.path.isfile(os.path.join(category_path, file)):\n",
    "                article_path = os.path.join(category_path,file)\n",
    "                article = open(article_path, 'r', encoding = 'utf8', errors = 'ignore')\n",
    "                \n",
    "                title = article.readline()              \n",
    "                content = article.read()\n",
    "                \n",
    "                title = title.strip(\"\\n\\r\")\n",
    "                content = content.strip(\"\\n\\r\")\n",
    "\n",
    "                article.close()\n",
    "\n",
    "                tsv_output.writerow([id,title,content,category])\n",
    "                id += 1"
   ]
  },
  {
   "cell_type": "code",
   "execution_count": 219,
   "metadata": {},
   "outputs": [
    {
     "data": {
      "text/html": [
       "<div>\n",
       "<style scoped>\n",
       "    .dataframe tbody tr th:only-of-type {\n",
       "        vertical-align: middle;\n",
       "    }\n",
       "\n",
       "    .dataframe tbody tr th {\n",
       "        vertical-align: top;\n",
       "    }\n",
       "\n",
       "    .dataframe thead th {\n",
       "        text-align: right;\n",
       "    }\n",
       "</style>\n",
       "<table border=\"1\" class=\"dataframe\">\n",
       "  <thead>\n",
       "    <tr style=\"text-align: right;\">\n",
       "      <th></th>\n",
       "      <th>id</th>\n",
       "      <th>title</th>\n",
       "      <th>content</th>\n",
       "      <th>category</th>\n",
       "    </tr>\n",
       "  </thead>\n",
       "  <tbody>\n",
       "    <tr>\n",
       "      <th>0</th>\n",
       "      <td>0</td>\n",
       "      <td>Ad sales boost Time Warner profit</td>\n",
       "      <td>Quarterly profits at US media giant TimeWarner...</td>\n",
       "      <td>business</td>\n",
       "    </tr>\n",
       "    <tr>\n",
       "      <th>1</th>\n",
       "      <td>1</td>\n",
       "      <td>Dollar gains on Greenspan speech</td>\n",
       "      <td>The dollar has hit its highest level against t...</td>\n",
       "      <td>business</td>\n",
       "    </tr>\n",
       "    <tr>\n",
       "      <th>2</th>\n",
       "      <td>2</td>\n",
       "      <td>Yukos unit buyer faces loan claim</td>\n",
       "      <td>The owners of embattled Russian oil giant Yuko...</td>\n",
       "      <td>business</td>\n",
       "    </tr>\n",
       "    <tr>\n",
       "      <th>3</th>\n",
       "      <td>3</td>\n",
       "      <td>High fuel prices hit BA's profits</td>\n",
       "      <td>British Airways has blamed high fuel prices fo...</td>\n",
       "      <td>business</td>\n",
       "    </tr>\n",
       "    <tr>\n",
       "      <th>4</th>\n",
       "      <td>4</td>\n",
       "      <td>Pernod takeover talk lifts Domecq</td>\n",
       "      <td>Shares in UK drinks and food firm Allied Domec...</td>\n",
       "      <td>business</td>\n",
       "    </tr>\n",
       "  </tbody>\n",
       "</table>\n",
       "</div>"
      ],
      "text/plain": [
       "   id                              title  \\\n",
       "0   0  Ad sales boost Time Warner profit   \n",
       "1   1   Dollar gains on Greenspan speech   \n",
       "2   2  Yukos unit buyer faces loan claim   \n",
       "3   3  High fuel prices hit BA's profits   \n",
       "4   4  Pernod takeover talk lifts Domecq   \n",
       "\n",
       "                                             content  category  \n",
       "0  Quarterly profits at US media giant TimeWarner...  business  \n",
       "1  The dollar has hit its highest level against t...  business  \n",
       "2  The owners of embattled Russian oil giant Yuko...  business  \n",
       "3  British Airways has blamed high fuel prices fo...  business  \n",
       "4  Shares in UK drinks and food firm Allied Domec...  business  "
      ]
     },
     "execution_count": 219,
     "metadata": {},
     "output_type": "execute_result"
    }
   ],
   "source": [
    "df = pd.read_csv(\"trainset.tsv\", sep='\\t', encoding = 'ANSI')\n",
    "df.head()"
   ]
  }
 ],
 "metadata": {
  "kernelspec": {
   "display_name": "Python 3",
   "language": "python",
   "name": "python3"
  },
  "language_info": {
   "codemirror_mode": {
    "name": "ipython",
    "version": 3
   },
   "file_extension": ".py",
   "mimetype": "text/x-python",
   "name": "python",
   "nbconvert_exporter": "python",
   "pygments_lexer": "ipython3",
   "version": "3.7.6"
  }
 },
 "nbformat": 4,
 "nbformat_minor": 4
}
